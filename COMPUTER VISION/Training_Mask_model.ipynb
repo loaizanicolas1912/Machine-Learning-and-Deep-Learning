{
  "nbformat": 4,
  "nbformat_minor": 0,
  "metadata": {
    "colab": {
      "name": "Mask.ipynb",
      "provenance": [],
      "private_outputs": true,
      "collapsed_sections": []
    },
    "kernelspec": {
      "name": "python3",
      "display_name": "Python 3"
    },
    "accelerator": "GPU"
  },
  "cells": [
    {
      "cell_type": "code",
      "metadata": {
        "id": "2jJruXqrO6cl"
      },
      "source": [
        "from google.colab import drive\n",
        "drive.mount('/content/drive/')"
      ],
      "execution_count": null,
      "outputs": []
    },
    {
      "cell_type": "code",
      "metadata": {
        "id": "VDxTtvssiKyY"
      },
      "source": [
        "import numpy as np\n",
        "import tensorflow as tf\n",
        "import cv2\n",
        "from tqdm import tqdm_notebook\n",
        "from tensorflow.keras import layers\n",
        "from tensorflow.keras.preprocessing.image import ImageDataGenerator"
      ],
      "execution_count": null,
      "outputs": []
    },
    {
      "cell_type": "code",
      "metadata": {
        "id": "Fv8lwc1GiuqE"
      },
      "source": [
        "train_path = '/content/drive/My Drive/Face Mask Dataset/Train'\n",
        "test_path = '/content/drive/My Drive/Face Mask Dataset/Test'"
      ],
      "execution_count": null,
      "outputs": []
    },
    {
      "cell_type": "code",
      "metadata": {
        "id": "rob-LGcZi7dC"
      },
      "source": [
        "IMG_SHAPE = (128,128,3) \n",
        "base_model = tf.keras.applications.MobileNetV2(input_shape=IMG_SHAPE, include_top=False, weights='imagenet')"
      ],
      "execution_count": null,
      "outputs": []
    },
    {
      "cell_type": "code",
      "metadata": {
        "id": "qn6XuKMlkuNf"
      },
      "source": [
        "base_model.trainable = False"
      ],
      "execution_count": null,
      "outputs": []
    },
    {
      "cell_type": "code",
      "metadata": {
        "id": "tEbRLj9ElIZ8"
      },
      "source": [
        "#CABECERA PERSONALIZADA \n",
        "Cab_Model = base_model.output\n",
        "Cab_Model = tf.keras.layers.GlobalAvgPool2D()(Cab_Model)\n",
        "Cab_Model = tf.keras.layers.Dense(128, activation='relu')(Cab_Model)\n",
        "Cab_Model = tf.keras.layers.Dropout(0.5)(Cab_Model)\n",
        "Cab_Model = tf.keras.layers.Dense(1, activation='sigmoid')(Cab_Model)"
      ],
      "execution_count": null,
      "outputs": []
    },
    {
      "cell_type": "code",
      "metadata": {
        "id": "Lf-EKwGmlwxa"
      },
      "source": [
        "model = tf.keras.models.Model(inputs= base_model.input, outputs=Cab_Model)"
      ],
      "execution_count": null,
      "outputs": []
    },
    {
      "cell_type": "code",
      "metadata": {
        "id": "UotvnLirqDEg"
      },
      "source": [
        "opt = tf.keras.optimizers.Adam(learning_rate=0.001)\n",
        "model.compile(optimizer=opt, loss=\"binary_crossentropy\", metrics=['accuracy'])"
      ],
      "execution_count": null,
      "outputs": []
    },
    {
      "cell_type": "code",
      "metadata": {
        "id": "Fvek_2vHrOCp"
      },
      "source": [
        "#DATA GENERATOR\n",
        "train_path_gen = ImageDataGenerator(rescale=1/255.)\n",
        "test_path_gen = ImageDataGenerator(rescale=1/255.)"
      ],
      "execution_count": null,
      "outputs": []
    },
    {
      "cell_type": "code",
      "metadata": {
        "id": "QS2Htid7r23A"
      },
      "source": [
        "train_generator = train_path_gen.flow_from_directory(train_path, target_size=(128,128), batch_size=128, class_mode='binary')\n",
        "test_generator = test_path_gen.flow_from_directory(test_path, target_size=(128,128), batch_size=128, class_mode='binary')"
      ],
      "execution_count": null,
      "outputs": []
    },
    {
      "cell_type": "code",
      "metadata": {
        "id": "e7moqklsKyvk"
      },
      "source": [
        "print(train_generator.class_indices)"
      ],
      "execution_count": null,
      "outputs": []
    },
    {
      "cell_type": "code",
      "metadata": {
        "id": "IoOqr7adJxEL"
      },
      "source": [
        "from keras.callbacks import History\n",
        "history = History()"
      ],
      "execution_count": null,
      "outputs": []
    },
    {
      "cell_type": "code",
      "metadata": {
        "id": "wmHSw-Qw0IC-"
      },
      "source": [
        "model.fit(train_generator, epochs=4, validation_data=test_generator, callbacks=[history])"
      ],
      "execution_count": null,
      "outputs": []
    },
    {
      "cell_type": "code",
      "metadata": {
        "id": "HjyaYSY1yH8q"
      },
      "source": [
        "from keras.preprocessing import image\n",
        "from keras.applications.mobilenet_v2 import preprocess_input, decode_predictions\n",
        "\n",
        "img =  '/content/drive/My Drive/con2.png'\n",
        "img = image.load_img(img, target_size=(128,128))\n",
        "x = image.img_to_array(img)\n",
        "x = np.expand_dims(x, axis=0)\n",
        "x = preprocess_input(x)\n",
        "\n",
        "preds = model.predict(x)\n",
        "print(preds)\n",
        "resultado = preds[0]\n",
        "predic = resultado[0]\n",
        "print(resultado)\n",
        "if (resultado>0.001):\n",
        "  print('Sin mascarilla')\n",
        "else:\n",
        "  print('Con mascarilla')"
      ],
      "execution_count": null,
      "outputs": []
    },
    {
      "cell_type": "code",
      "metadata": {
        "id": "n_-6V0Mz2acu"
      },
      "source": [
        "import cv2\n",
        "from google.colab.patches import cv2_imshow"
      ],
      "execution_count": null,
      "outputs": []
    },
    {
      "cell_type": "code",
      "metadata": {
        "id": "DFt3sytUlgPE"
      },
      "source": [
        "model.save(\"detec_mask_final.model2\", save_format=\"h5\")\n",
        "model.save_weights(\"my_weights_final2\", save_format=\"h5\")"
      ],
      "execution_count": null,
      "outputs": []
    },
    {
      "cell_type": "code",
      "metadata": {
        "id": "GfDAPn-on1s-"
      },
      "source": [
        "from google.colab import files\n",
        "files.download(\"my_weights_final2\")"
      ],
      "execution_count": null,
      "outputs": []
    }
  ]
}