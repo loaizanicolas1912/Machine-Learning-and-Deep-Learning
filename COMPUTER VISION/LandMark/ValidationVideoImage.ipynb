{
 "cells": [
  {
   "cell_type": "code",
   "execution_count": 19,
   "metadata": {},
   "outputs": [],
   "source": [
    "import numpy as np\n",
    "import cv2\n",
    "from keras.models import load_model\n",
    "from keras.preprocessing import image\n",
    "from keras.preprocessing.image import img_to_array\n",
    "\n",
    "#Importar Modelo!\n",
    "Model = load_model('model.49-7.81.hdf5')\n",
    "face_cascade = cv2.CascadeClassifier('haarcascade_frontalface_default.xml')"
   ]
  },
  {
   "cell_type": "code",
   "execution_count": 20,
   "metadata": {},
   "outputs": [],
   "source": [
    "cap = cv2.VideoCapture('VIDEO.mp4')\n",
    "ret, frame = cap.read()\n",
    "\n",
    "while True:\n",
    "    ret, frame = cap.read()\n",
    "    fault = cv2.cvtColor(frame, cv2.COLOR_BGR2RGB)\n",
    "    gray_img = cv2.cvtColor(fault, cv2.COLOR_BGR2GRAY)\n",
    "    faces = face_cascade.detectMultiScale(gray_img,\n",
    "                                        scaleFactor=1.2,\n",
    "                                        minNeighbors=5,\n",
    "                                        minSize=(110, 110),\n",
    "                                        flags=cv2.CASCADE_SCALE_IMAGE)\n",
    "    \n",
    "    dimensions = (96, 96)\n",
    "    faces_list=[]\n",
    "    for (x, y, w, h) in faces:\n",
    "        just_face=cv2.resize(gray_img[y:y+h,x:x+w], dimensions)\n",
    "        me  = np.array(just_face)/255.0\n",
    "        x_test = np.expand_dims(me, axis=0)\n",
    "        x_test = np.expand_dims(x_test, axis=3)\n",
    "        y_test = Model.predict(x_test)\n",
    "        for i in y_test:\n",
    "            x = i[::2]\n",
    "            y = i[1::2]\n",
    "            c = tuple(zip(x, y))\n",
    "            for j in range(len(c)):\n",
    "                cv2.circle(just_face, c[j], 3, (255, 255, 255), -1)\n",
    "    \n",
    "    \n",
    "    \n",
    "    cv2.imshow('Mask Detection2',just_face)\n",
    "    if cv2.waitKey(2) & 0xFF == ord('q'):\n",
    "        break\n",
    "        \n",
    "\n",
    "cap.release()\n",
    "cv2.destroyAllWindows()"
   ]
  },
  {
   "cell_type": "markdown",
   "metadata": {},
   "source": [
    "#### Model Test_set"
   ]
  },
  {
   "cell_type": "code",
   "execution_count": 12,
   "metadata": {
    "scrolled": true
   },
   "outputs": [
    {
     "data": {
      "text/html": [
       "<div>\n",
       "<style scoped>\n",
       "    .dataframe tbody tr th:only-of-type {\n",
       "        vertical-align: middle;\n",
       "    }\n",
       "\n",
       "    .dataframe tbody tr th {\n",
       "        vertical-align: top;\n",
       "    }\n",
       "\n",
       "    .dataframe thead th {\n",
       "        text-align: right;\n",
       "    }\n",
       "</style>\n",
       "<table border=\"1\" class=\"dataframe\">\n",
       "  <thead>\n",
       "    <tr style=\"text-align: right;\">\n",
       "      <th></th>\n",
       "      <th>ImageId</th>\n",
       "      <th>Image</th>\n",
       "    </tr>\n",
       "  </thead>\n",
       "  <tbody>\n",
       "    <tr>\n",
       "      <th>0</th>\n",
       "      <td>1</td>\n",
       "      <td>182 183 182 182 180 180 176 169 156 137 124 10...</td>\n",
       "    </tr>\n",
       "    <tr>\n",
       "      <th>1</th>\n",
       "      <td>2</td>\n",
       "      <td>76 87 81 72 65 59 64 76 69 42 31 38 49 58 58 4...</td>\n",
       "    </tr>\n",
       "    <tr>\n",
       "      <th>2</th>\n",
       "      <td>3</td>\n",
       "      <td>177 176 174 170 169 169 168 166 166 166 161 14...</td>\n",
       "    </tr>\n",
       "    <tr>\n",
       "      <th>3</th>\n",
       "      <td>4</td>\n",
       "      <td>176 174 174 175 174 174 176 176 175 171 165 15...</td>\n",
       "    </tr>\n",
       "    <tr>\n",
       "      <th>4</th>\n",
       "      <td>5</td>\n",
       "      <td>50 47 44 101 144 149 120 58 48 42 35 35 37 39 ...</td>\n",
       "    </tr>\n",
       "    <tr>\n",
       "      <th>...</th>\n",
       "      <td>...</td>\n",
       "      <td>...</td>\n",
       "    </tr>\n",
       "    <tr>\n",
       "      <th>1778</th>\n",
       "      <td>1779</td>\n",
       "      <td>101 101 101 100 100 97 97 98 102 149 214 206 1...</td>\n",
       "    </tr>\n",
       "    <tr>\n",
       "      <th>1779</th>\n",
       "      <td>1780</td>\n",
       "      <td>201 191 171 158 145 140 136 130 123 115 108 10...</td>\n",
       "    </tr>\n",
       "    <tr>\n",
       "      <th>1780</th>\n",
       "      <td>1781</td>\n",
       "      <td>28 28 29 30 31 32 33 34 39 44 46 46 49 54 61 7...</td>\n",
       "    </tr>\n",
       "    <tr>\n",
       "      <th>1781</th>\n",
       "      <td>1782</td>\n",
       "      <td>104 95 71 57 46 52 65 70 70 67 76 72 69 69 72 ...</td>\n",
       "    </tr>\n",
       "    <tr>\n",
       "      <th>1782</th>\n",
       "      <td>1783</td>\n",
       "      <td>63 61 64 66 66 64 65 70 69 70 77 83 63 34 22 2...</td>\n",
       "    </tr>\n",
       "  </tbody>\n",
       "</table>\n",
       "<p>1783 rows × 2 columns</p>\n",
       "</div>"
      ],
      "text/plain": [
       "      ImageId                                              Image\n",
       "0           1  182 183 182 182 180 180 176 169 156 137 124 10...\n",
       "1           2  76 87 81 72 65 59 64 76 69 42 31 38 49 58 58 4...\n",
       "2           3  177 176 174 170 169 169 168 166 166 166 161 14...\n",
       "3           4  176 174 174 175 174 174 176 176 175 171 165 15...\n",
       "4           5  50 47 44 101 144 149 120 58 48 42 35 35 37 39 ...\n",
       "...       ...                                                ...\n",
       "1778     1779  101 101 101 100 100 97 97 98 102 149 214 206 1...\n",
       "1779     1780  201 191 171 158 145 140 136 130 123 115 108 10...\n",
       "1780     1781  28 28 29 30 31 32 33 34 39 44 46 46 49 54 61 7...\n",
       "1781     1782  104 95 71 57 46 52 65 70 70 67 76 72 69 69 72 ...\n",
       "1782     1783  63 61 64 66 66 64 65 70 69 70 77 83 63 34 22 2...\n",
       "\n",
       "[1783 rows x 2 columns]"
      ]
     },
     "execution_count": 12,
     "metadata": {},
     "output_type": "execute_result"
    }
   ],
   "source": [
    "import pandas as pd\n",
    "Data_test = 'test.csv'\n",
    "df = pd.read_csv(Data_test)\n",
    "data = pd.DataFrame(df)\n",
    "data"
   ]
  },
  {
   "cell_type": "code",
   "execution_count": 13,
   "metadata": {
    "scrolled": false
   },
   "outputs": [
    {
     "data": {
      "image/png": "[encoded data removed]",
      "text/plain": [
       "<Figure size 432x288 with 1 Axes>"
      ]
     },
     "metadata": {
      "needs_background": "light"
     },
     "output_type": "display_data"
    }
   ],
   "source": [
    "data['Image'] = data['Image'].apply(lambda i: np.fromstring(i, sep=' '))\n",
    "img = (np.vstack(data['Image'].values)/255.0).astype(np.float32)\n",
    "img = img.reshape(-1,96,96,1) #Reshape for 96x96 with one Channel\n",
    "\n",
    "plt.imshow(img[8].reshape(96,96), cmap='gray')\n",
    "plt.show()"
   ]
  },
  {
   "cell_type": "code",
   "execution_count": 17,
   "metadata": {},
   "outputs": [],
   "source": [
    "prueba = img[8]\n",
    "prueba_arr  = np.array(prueba)/255\n",
    "img_test = np.expand_dims(prueba_arr, axis=0)\n",
    "img_test = np.expand_dims(img_test, axis=3)\n",
    "\n",
    "labels_test = Model.predict(img_test)\n",
    "label_points = np.squeeze(labels_test)"
   ]
  },
  {
   "cell_type": "code",
   "execution_count": 18,
   "metadata": {},
   "outputs": [
    {
     "data": {
      "image/png": "[encoded data removed]",
      "text/plain": [
       "<Figure size 432x288 with 1 Axes>"
      ]
     },
     "metadata": {
      "needs_background": "light"
     },
     "output_type": "display_data"
    }
   ],
   "source": [
    "import matplotlib.pyplot as plt\n",
    "Preds = Model.predict(img_test)\n",
    "Preds = np.squeeze(Preds)\n",
    "\n",
    "plt.imshow(img[8].reshape(96,96), cmap='gray')\n",
    "plt.plot(Preds[::2], Preds[1::2], 'ro')\n",
    "plt.show()"
   ]
  }
 ],
 "metadata": {
  "kernelspec": {
   "display_name": "Python 3",
   "language": "python",
   "name": "python3"
  },
  "language_info": {
   "codemirror_mode": {
    "name": "ipython",
    "version": 3
   },
   "file_extension": ".py",
   "mimetype": "text/x-python",
   "name": "python",
   "nbconvert_exporter": "python",
   "pygments_lexer": "ipython3",
   "version": "3.7.6"
  }
 },
 "nbformat": 4,
 "nbformat_minor": 4
}
