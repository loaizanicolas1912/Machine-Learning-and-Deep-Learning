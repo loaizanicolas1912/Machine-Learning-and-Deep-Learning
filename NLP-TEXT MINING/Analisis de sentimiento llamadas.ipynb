{
 "cells": [
  {
   "cell_type": "markdown",
   "metadata": {},
   "source": [
    "#### ANÁLISIS DE SENTIMIENTO \n",
    "Se realiza una clasificación para los diferentes audios recolectados en llamadas al servicio al cliente (20) en específico los últimos 15 segundos, para  clasificar la atención prestada y rendimiento del servicio"
   ]
  },
  {
   "cell_type": "code",
   "execution_count": 245,
   "metadata": {},
   "outputs": [],
   "source": [
    "import speech_recognition as sr\n",
    "import pandas as pd"
   ]
  },
  {
   "cell_type": "code",
   "execution_count": 246,
   "metadata": {
    "scrolled": true
   },
   "outputs": [],
   "source": [
    "import os\n",
    "\n",
    "#ABRIMOS LA CARPETA DE LOS AUDIOS\n",
    "folder_audios = os.listdir(\"AUDIOS\")"
   ]
  },
  {
   "cell_type": "code",
   "execution_count": 247,
   "metadata": {},
   "outputs": [],
   "source": [
    "def transcribe_audio(audio):\n",
    "    recognizer = sr.Recognizer()\n",
    "    audio_new = sr.AudioFile(audio)\n",
    "    with audio_new as source:\n",
    "        audio_senti = recognizer.record(source)\n",
    "    return recognizer.recognize_google(audio_data=audio_senti, language=\"es-CO\")"
   ]
  },
  {
   "cell_type": "code",
   "execution_count": 248,
   "metadata": {},
   "outputs": [],
   "source": [
    "def create_text_list(folder):\n",
    "    text_list = []\n",
    "    for file in folder:\n",
    "         if file.endswith(\".wav\"):\n",
    "            text = transcribe_audio(file)\n",
    "            text_list.append(text)\n",
    "    return text_list"
   ]
  },
  {
   "cell_type": "code",
   "execution_count": 249,
   "metadata": {},
   "outputs": [],
   "source": [
    "text_audio_sent = create_text_list(folder_audios)"
   ]
  },
  {
   "cell_type": "code",
   "execution_count": 250,
   "metadata": {
    "scrolled": false
   },
   "outputs": [],
   "source": [
    "#CREAMOS EL DATAFRAME PARA TODAS LAS RESEÑAS RECOGIDAS\n",
    "df_sentiment_call = pd.DataFrame({ \"Reseña\": text_audio_sent})"
   ]
  },
  {
   "cell_type": "code",
   "execution_count": 251,
   "metadata": {},
   "outputs": [],
   "source": [
    "from textblob import TextBlob"
   ]
  },
  {
   "cell_type": "code",
   "execution_count": 252,
   "metadata": {},
   "outputs": [],
   "source": [
    "df_sentiment_call['Reseña_Ingles'] = df_sentiment_call['Reseña'].apply(lambda x: str(TextBlob(x).translate(from_lang='es',to='en')))"
   ]
  },
  {
   "cell_type": "code",
   "execution_count": 253,
   "metadata": {},
   "outputs": [],
   "source": [
    "df_sentiment_call['Polaridad'] = df_sentiment_call['Reseña_Ingles'].apply(lambda x: TextBlob(x).sentiment.polarity)\n",
    "df_sentiment_call['Subjetividad'] = df_sentiment_call['Reseña_Ingles'].apply(lambda x: TextBlob(x).sentiment.subjectivity)"
   ]
  },
  {
   "cell_type": "code",
   "execution_count": 254,
   "metadata": {},
   "outputs": [],
   "source": [
    "from vaderSentiment.vaderSentiment import SentimentIntensityAnalyzer\n",
    "analyzer = SentimentIntensityAnalyzer()\n",
    "\n",
    "df_sentiment_call['Position'] = df_sentiment_call['Reseña_Ingles'].apply(lambda x: analyzer.polarity_scores(x))"
   ]
  },
  {
   "cell_type": "code",
   "execution_count": 256,
   "metadata": {},
   "outputs": [],
   "source": [
    "df_sentiment_call['compound'] = [analyzer.polarity_scores(x)['compound'] for x in df_sentiment_call['Reseña_Ingles']]"
   ]
  },
  {
   "cell_type": "code",
   "execution_count": 257,
   "metadata": {},
   "outputs": [],
   "source": [
    "df_sentiment_call['Clasificacion_vader'] = df_sentiment_call['compound'].apply(lambda x: 'Positivo' if x > 0.05 else ('Negativo' if x < -0.05 else 'Neutral'))\n",
    "df_sentiment_call['Clasificacion_TextBlod'] = df_sentiment_call['Polaridad'].apply(lambda x: 'Positivo' if x > 0.0 else ('Negativo' if x < 0.0 else 'Neutral'))"
   ]
  },
  {
   "cell_type": "code",
   "execution_count": 258,
   "metadata": {
    "scrolled": true
   },
   "outputs": [
    {
     "data": {
      "text/html": [
       "<div>\n",
       "<style scoped>\n",
       "    .dataframe tbody tr th:only-of-type {\n",
       "        vertical-align: middle;\n",
       "    }\n",
       "\n",
       "    .dataframe tbody tr th {\n",
       "        vertical-align: top;\n",
       "    }\n",
       "\n",
       "    .dataframe thead th {\n",
       "        text-align: right;\n",
       "    }\n",
       "</style>\n",
       "<table border=\"1\" class=\"dataframe\">\n",
       "  <thead>\n",
       "    <tr style=\"text-align: right;\">\n",
       "      <th></th>\n",
       "      <th>Reseña</th>\n",
       "      <th>Reseña_Ingles</th>\n",
       "      <th>Polaridad</th>\n",
       "      <th>Subjetividad</th>\n",
       "      <th>Position</th>\n",
       "      <th>compound</th>\n",
       "      <th>Clasificacion_vader</th>\n",
       "      <th>Clasificacion_TextBlod</th>\n",
       "    </tr>\n",
       "  </thead>\n",
       "  <tbody>\n",
       "    <tr>\n",
       "      <th>0</th>\n",
       "      <td>Bueno pues la verdad ese servicio es muy muy m...</td>\n",
       "      <td>Well, the truth is, that service is very very ...</td>\n",
       "      <td>-0.673333</td>\n",
       "      <td>0.611111</td>\n",
       "      <td>{'neg': 0.223, 'neu': 0.657, 'pos': 0.12, 'com...</td>\n",
       "      <td>-0.6949</td>\n",
       "      <td>Negativo</td>\n",
       "      <td>Negativo</td>\n",
       "    </tr>\n",
       "    <tr>\n",
       "      <th>1</th>\n",
       "      <td>el proceso de instalación con muy bueno recibi...</td>\n",
       "      <td>the installation process with very good receiv...</td>\n",
       "      <td>0.840000</td>\n",
       "      <td>0.720000</td>\n",
       "      <td>{'neg': 0.0, 'neu': 0.591, 'pos': 0.409, 'comp...</td>\n",
       "      <td>0.8945</td>\n",
       "      <td>Positivo</td>\n",
       "      <td>Positivo</td>\n",
       "    </tr>\n",
       "    <tr>\n",
       "      <th>2</th>\n",
       "      <td>este servicio me ha parecido regular Ya que en...</td>\n",
       "      <td>This service has seemed to me regular Since at...</td>\n",
       "      <td>-0.025000</td>\n",
       "      <td>0.359103</td>\n",
       "      <td>{'neg': 0.133, 'neu': 0.812, 'pos': 0.055, 'co...</td>\n",
       "      <td>-0.5859</td>\n",
       "      <td>Negativo</td>\n",
       "      <td>Negativo</td>\n",
       "    </tr>\n",
       "    <tr>\n",
       "      <th>3</th>\n",
       "      <td>no tenía ningún inconveniente con el servicio ...</td>\n",
       "      <td>I had no problem with the one-time service in ...</td>\n",
       "      <td>0.000000</td>\n",
       "      <td>0.000000</td>\n",
       "      <td>{'neg': 0.0, 'neu': 0.816, 'pos': 0.184, 'comp...</td>\n",
       "      <td>0.3089</td>\n",
       "      <td>Positivo</td>\n",
       "      <td>Neutral</td>\n",
       "    </tr>\n",
       "    <tr>\n",
       "      <th>4</th>\n",
       "      <td>desagradable tenido fallos en la red durante t...</td>\n",
       "      <td>unpleasant had network failures throughout the...</td>\n",
       "      <td>-0.650000</td>\n",
       "      <td>0.950000</td>\n",
       "      <td>{'neg': 0.357, 'neu': 0.643, 'pos': 0.0, 'comp...</td>\n",
       "      <td>-0.7269</td>\n",
       "      <td>Negativo</td>\n",
       "      <td>Negativo</td>\n",
       "    </tr>\n",
       "    <tr>\n",
       "      <th>5</th>\n",
       "      <td>muy muy malo espero que en un futuro mejor en ...</td>\n",
       "      <td>very very bad I hope that in a better future i...</td>\n",
       "      <td>-0.136667</td>\n",
       "      <td>0.497222</td>\n",
       "      <td>{'neg': 0.176, 'neu': 0.562, 'pos': 0.262, 'co...</td>\n",
       "      <td>0.2482</td>\n",
       "      <td>Positivo</td>\n",
       "      <td>Negativo</td>\n",
       "    </tr>\n",
       "  </tbody>\n",
       "</table>\n",
       "</div>"
      ],
      "text/plain": [
       "                                              Reseña  \\\n",
       "0  Bueno pues la verdad ese servicio es muy muy m...   \n",
       "1  el proceso de instalación con muy bueno recibi...   \n",
       "2  este servicio me ha parecido regular Ya que en...   \n",
       "3  no tenía ningún inconveniente con el servicio ...   \n",
       "4  desagradable tenido fallos en la red durante t...   \n",
       "5  muy muy malo espero que en un futuro mejor en ...   \n",
       "\n",
       "                                       Reseña_Ingles  Polaridad  Subjetividad  \\\n",
       "0  Well, the truth is, that service is very very ...  -0.673333      0.611111   \n",
       "1  the installation process with very good receiv...   0.840000      0.720000   \n",
       "2  This service has seemed to me regular Since at...  -0.025000      0.359103   \n",
       "3  I had no problem with the one-time service in ...   0.000000      0.000000   \n",
       "4  unpleasant had network failures throughout the...  -0.650000      0.950000   \n",
       "5  very very bad I hope that in a better future i...  -0.136667      0.497222   \n",
       "\n",
       "                                            Position  compound  \\\n",
       "0  {'neg': 0.223, 'neu': 0.657, 'pos': 0.12, 'com...   -0.6949   \n",
       "1  {'neg': 0.0, 'neu': 0.591, 'pos': 0.409, 'comp...    0.8945   \n",
       "2  {'neg': 0.133, 'neu': 0.812, 'pos': 0.055, 'co...   -0.5859   \n",
       "3  {'neg': 0.0, 'neu': 0.816, 'pos': 0.184, 'comp...    0.3089   \n",
       "4  {'neg': 0.357, 'neu': 0.643, 'pos': 0.0, 'comp...   -0.7269   \n",
       "5  {'neg': 0.176, 'neu': 0.562, 'pos': 0.262, 'co...    0.2482   \n",
       "\n",
       "  Clasificacion_vader Clasificacion_TextBlod  \n",
       "0            Negativo               Negativo  \n",
       "1            Positivo               Positivo  \n",
       "2            Negativo               Negativo  \n",
       "3            Positivo                Neutral  \n",
       "4            Negativo               Negativo  \n",
       "5            Positivo               Negativo  "
      ]
     },
     "execution_count": 258,
     "metadata": {},
     "output_type": "execute_result"
    }
   ],
   "source": [
    "#CLASIFICACION 6 PRIMERAS LLAMADAS\n",
    "df_sentiment_call.head(6)"
   ]
  },
  {
   "cell_type": "markdown",
   "metadata": {},
   "source": [
    "La clasificacion se muestra para las dos librerias posibles para el estudio y su funcionamiento durante el analisis, se puede evidenciar que ambas funcionan para ciertas llamadas con clasificacion desigual y deben ser corregidas, los resultados pueden ser objeto de un posterior algoritmo de clasificacion o segmentacion de clientes. "
   ]
  }
 ],
 "metadata": {
  "kernelspec": {
   "display_name": "Python 3",
   "language": "python",
   "name": "python3"
  },
  "language_info": {
   "codemirror_mode": {
    "name": "ipython",
    "version": 3
   },
   "file_extension": ".py",
   "mimetype": "text/x-python",
   "name": "python",
   "nbconvert_exporter": "python",
   "pygments_lexer": "ipython3",
   "version": "3.7.6"
  }
 },
 "nbformat": 4,
 "nbformat_minor": 4
}
